{
  "cells": [
    {
      "cell_type": "markdown",
      "metadata": {
        "id": "view-in-github",
        "colab_type": "text"
      },
      "source": [
        "<a href=\"https://colab.research.google.com/github/muratcanaydogdu21/cifar10_guided_project/blob/main/guided_project.ipynb\" target=\"_parent\"><img src=\"https://colab.research.google.com/assets/colab-badge.svg\" alt=\"Open In Colab\"/></a>"
      ]
    },
    {
      "cell_type": "code",
      "execution_count": 6,
      "metadata": {
        "id": "NCSKlm6zQBcb"
      },
      "outputs": [],
      "source": [
        "import pandas as pd\n",
        "import numpy as np\n",
        "import matplotlib.pyplot as plt"
      ]
    },
    {
      "cell_type": "code",
      "execution_count": 1,
      "metadata": {
        "id": "wKYhObEJQXp1"
      },
      "outputs": [],
      "source": [
        "import tensorflow as tf"
      ]
    },
    {
      "cell_type": "code",
      "execution_count": 2,
      "metadata": {
        "colab": {
          "base_uri": "https://localhost:8080/"
        },
        "id": "L3exG5oPThxS",
        "outputId": "3bc009df-ae4f-4748-bd5a-e0da5352bb04"
      },
      "outputs": [
        {
          "output_type": "stream",
          "name": "stdout",
          "text": [
            "Downloading data from https://www.cs.toronto.edu/~kriz/cifar-10-python.tar.gz\n",
            "170500096/170498071 [==============================] - 4s 0us/step\n",
            "170508288/170498071 [==============================] - 4s 0us/step\n"
          ]
        }
      ],
      "source": [
        "(x_train,y_train),(x_test,y_test)=tf.keras.datasets.cifar10.load_data()"
      ]
    },
    {
      "cell_type": "code",
      "execution_count": 3,
      "metadata": {
        "colab": {
          "base_uri": "https://localhost:8080/"
        },
        "id": "AwNUn7lsUxtM",
        "outputId": "e788326a-1739-41d6-9539-7461e6429ba5"
      },
      "outputs": [
        {
          "output_type": "stream",
          "name": "stdout",
          "text": [
            "x_train:50000\n",
            "x_test:10000\n"
          ]
        }
      ],
      "source": [
        "print(f\"x_train:{len(x_train)}\")\n",
        "print(f\"x_test:{len(x_test)}\")"
      ]
    },
    {
      "cell_type": "code",
      "execution_count": 4,
      "metadata": {
        "colab": {
          "base_uri": "https://localhost:8080/"
        },
        "id": "ttjyz22qaKRx",
        "outputId": "0146e671-0c16-4ad2-e98b-1951f9d58b9c"
      },
      "outputs": [
        {
          "output_type": "stream",
          "name": "stdout",
          "text": [
            "[[[100 111 134]\n",
            "  [ 98 110 132]\n",
            "  [ 98 109 131]\n",
            "  ...\n",
            "  [ 69  89 114]\n",
            "  [ 67  87 113]\n",
            "  [ 66  86 111]]\n",
            "\n",
            " [[ 98 109 131]\n",
            "  [ 95 106 128]\n",
            "  [ 94 105 127]\n",
            "  ...\n",
            "  [ 65  85 110]\n",
            "  [ 64  84 109]\n",
            "  [ 63  83 107]]\n",
            "\n",
            " [[ 94 105 127]\n",
            "  [ 92 103 125]\n",
            "  [ 92 103 125]\n",
            "  ...\n",
            "  [ 63  83 108]\n",
            "  [ 62  82 107]\n",
            "  [ 60  80 105]]\n",
            "\n",
            " ...\n",
            "\n",
            " [[ 13  27  40]\n",
            "  [ 12  26  39]\n",
            "  [ 12  26  39]\n",
            "  ...\n",
            "  [  4   6  21]\n",
            "  [  5   7  22]\n",
            "  [  4   7  22]]\n",
            "\n",
            " [[ 12  24  38]\n",
            "  [ 14  26  39]\n",
            "  [  9  21  34]\n",
            "  ...\n",
            "  [  3   5  19]\n",
            "  [  3   5  20]\n",
            "  [  5   7  22]]\n",
            "\n",
            " [[ 14  23  34]\n",
            "  [ 12  21  31]\n",
            "  [  9  19  29]\n",
            "  ...\n",
            "  [  4   4  17]\n",
            "  [  4   5  18]\n",
            "  [  5   5  18]]]\n"
          ]
        }
      ],
      "source": [
        "print(x_test[789])"
      ]
    },
    {
      "cell_type": "code",
      "execution_count": 7,
      "metadata": {
        "colab": {
          "base_uri": "https://localhost:8080/",
          "height": 283
        },
        "id": "czzPuRPyebxO",
        "outputId": "1df19f64-bd65-44ec-bf3e-6e45bf06c851"
      },
      "outputs": [
        {
          "output_type": "display_data",
          "data": {
            "text/plain": [
              "<Figure size 432x288 with 1 Axes>"
            ],
            "image/png": "[encoded data removed]"
          },
          "metadata": {
            "needs_background": "light"
          }
        },
        {
          "output_type": "stream",
          "name": "stdout",
          "text": [
            "(32, 32, 3)\n"
          ]
        }
      ],
      "source": [
        "plt.imshow(x_test[788])\n",
        "plt.show()\n",
        "print(x_test[788].shape)"
      ]
    },
    {
      "cell_type": "code",
      "execution_count": 8,
      "metadata": {
        "id": "GmZ8ewdgequ4"
      },
      "outputs": [],
      "source": [
        "x_val=x_train[40000:]\n",
        "y_val=y_train[40000:]\n",
        "\n",
        "x_train=x_train[:40000]\n",
        "y_train=y_train[:40000]"
      ]
    },
    {
      "cell_type": "code",
      "execution_count": 9,
      "metadata": {
        "colab": {
          "base_uri": "https://localhost:8080/"
        },
        "id": "_2rQhnPYfAg6",
        "outputId": "044ee043-9ec8-4d20-d415-9a0a245c22ed"
      },
      "outputs": [
        {
          "output_type": "stream",
          "name": "stdout",
          "text": [
            "x_train:40000\n",
            "x_val:10000\n",
            "x_test:10000\n"
          ]
        }
      ],
      "source": [
        "print(f\"x_train:{len(x_train)}\")\n",
        "print(f\"x_val:{len(x_val)}\")\n",
        "print(f\"x_test:{len(x_test)}\")"
      ]
    },
    {
      "cell_type": "code",
      "execution_count": 10,
      "metadata": {
        "id": "6DNnXvsVVoR8"
      },
      "outputs": [],
      "source": [
        "x_train=x_train/255\n",
        "x_val=x_val/255\n",
        "x_test=x_test/255"
      ]
    },
    {
      "cell_type": "code",
      "execution_count": 11,
      "metadata": {
        "id": "bW2nQQpzV3Vg"
      },
      "outputs": [],
      "source": [
        "model=tf.keras.Sequential()"
      ]
    },
    {
      "cell_type": "code",
      "execution_count": 12,
      "metadata": {
        "id": "8z8Dk5bNV_bw"
      },
      "outputs": [],
      "source": [
        "model.add(tf.keras.layers.Conv2D(32,\n",
        "                                 kernel_size=(3,3),\n",
        "                                 strides=(1,1),\n",
        "                                 padding=\"same\",\n",
        "                                 activation=\"relu\",\n",
        "                                 input_shape=(32,32,3)))\n",
        "model.add(tf.keras.layers.MaxPooling2D((2,2)))"
      ]
    },
    {
      "cell_type": "code",
      "execution_count": 13,
      "metadata": {
        "id": "ZVCN-KsHoQaf"
      },
      "outputs": [],
      "source": [
        "model.add(tf.keras.layers.Conv2D(64,\n",
        "                                 kernel_size=(3,3),\n",
        "                                 strides=(1,1),\n",
        "                                 padding=\"same\",\n",
        "                                 activation=\"relu\"))\n",
        "model.add(tf.keras.layers.MaxPooling2D((2,2)))\n",
        "model.add(tf.keras.layers.Conv2D(64,\n",
        "                                 kernel_size=(3,3),\n",
        "                                 strides=(1,1),\n",
        "                                 padding=\"same\",\n",
        "                                 activation=\"relu\"))"
      ]
    },
    {
      "cell_type": "code",
      "execution_count": 14,
      "metadata": {
        "id": "D2WyFNYQqP8x"
      },
      "outputs": [],
      "source": [
        "model.add(tf.keras.layers.Flatten())"
      ]
    },
    {
      "cell_type": "code",
      "execution_count": 15,
      "metadata": {
        "id": "vssHcJgZtirc"
      },
      "outputs": [],
      "source": [
        "model.add(tf.keras.layers.Dense(64,activation=\"relu\"))\n",
        "model.add(tf.keras.layers.Dropout(0.5))\n",
        "\n",
        "model.add(tf.keras.layers.Dense(64,activation=\"relu\"))\n",
        "model.add(tf.keras.layers.Dropout(0.5))"
      ]
    },
    {
      "cell_type": "code",
      "execution_count": 16,
      "metadata": {
        "id": "BD3HXng9t46c"
      },
      "outputs": [],
      "source": [
        "model.add(tf.keras.layers.Dense(10,activation=\"softmax\"))"
      ]
    },
    {
      "cell_type": "code",
      "execution_count": 17,
      "metadata": {
        "id": "xC883SczuChu"
      },
      "outputs": [],
      "source": [
        "from tensorflow.python import metrics\n",
        "model.compile(optimizer=\"adam\",\n",
        "                        loss=\"sparse_categorical_crossentropy\",\n",
        "              metrics=[\"accuracy\"])"
      ]
    },
    {
      "cell_type": "code",
      "execution_count": 18,
      "metadata": {
        "colab": {
          "base_uri": "https://localhost:8080/"
        },
        "id": "Y3vSUsbXui2U",
        "outputId": "3d31843a-f3e9-4fec-b642-2a3f27a4290f"
      },
      "outputs": [
        {
          "output_type": "stream",
          "name": "stdout",
          "text": [
            "Epoch 1/50\n",
            "313/313 [==============================] - 15s 10ms/step - loss: 2.0380 - accuracy: 0.2223 - val_loss: 1.7000 - val_accuracy: 0.3728\n",
            "Epoch 2/50\n",
            "313/313 [==============================] - 2s 7ms/step - loss: 1.7216 - accuracy: 0.3393 - val_loss: 1.4724 - val_accuracy: 0.4788\n",
            "Epoch 3/50\n",
            "313/313 [==============================] - 2s 7ms/step - loss: 1.5703 - accuracy: 0.4078 - val_loss: 1.4165 - val_accuracy: 0.5163\n",
            "Epoch 4/50\n",
            "313/313 [==============================] - 2s 7ms/step - loss: 1.4627 - accuracy: 0.4484 - val_loss: 1.2496 - val_accuracy: 0.5717\n",
            "Epoch 5/50\n",
            "313/313 [==============================] - 2s 7ms/step - loss: 1.3894 - accuracy: 0.4849 - val_loss: 1.1954 - val_accuracy: 0.5834\n",
            "Epoch 6/50\n",
            "313/313 [==============================] - 2s 7ms/step - loss: 1.2997 - accuracy: 0.5223 - val_loss: 1.0841 - val_accuracy: 0.6243\n",
            "Epoch 7/50\n",
            "313/313 [==============================] - 3s 9ms/step - loss: 1.2328 - accuracy: 0.5524 - val_loss: 1.0467 - val_accuracy: 0.6326\n",
            "Epoch 8/50\n",
            "313/313 [==============================] - 2s 8ms/step - loss: 1.1757 - accuracy: 0.5762 - val_loss: 1.0079 - val_accuracy: 0.6543\n",
            "Epoch 9/50\n",
            "313/313 [==============================] - 2s 7ms/step - loss: 1.1376 - accuracy: 0.5951 - val_loss: 1.0046 - val_accuracy: 0.6556\n",
            "Epoch 10/50\n",
            "313/313 [==============================] - 2s 7ms/step - loss: 1.1034 - accuracy: 0.6092 - val_loss: 1.0032 - val_accuracy: 0.6561\n",
            "Epoch 11/50\n",
            "313/313 [==============================] - 2s 7ms/step - loss: 1.0607 - accuracy: 0.6219 - val_loss: 0.9579 - val_accuracy: 0.6730\n",
            "Epoch 12/50\n",
            "313/313 [==============================] - 2s 7ms/step - loss: 1.0228 - accuracy: 0.6375 - val_loss: 0.9140 - val_accuracy: 0.6862\n",
            "Epoch 13/50\n",
            "313/313 [==============================] - 2s 7ms/step - loss: 0.9899 - accuracy: 0.6457 - val_loss: 0.8879 - val_accuracy: 0.6979\n",
            "Epoch 14/50\n",
            "313/313 [==============================] - 2s 7ms/step - loss: 0.9563 - accuracy: 0.6607 - val_loss: 0.8855 - val_accuracy: 0.6991\n",
            "Epoch 15/50\n",
            "313/313 [==============================] - 2s 7ms/step - loss: 0.9259 - accuracy: 0.6709 - val_loss: 0.8938 - val_accuracy: 0.6991\n",
            "Epoch 16/50\n",
            "313/313 [==============================] - 2s 7ms/step - loss: 0.8915 - accuracy: 0.6834 - val_loss: 0.8775 - val_accuracy: 0.7028\n",
            "Epoch 17/50\n",
            "313/313 [==============================] - 2s 7ms/step - loss: 0.8710 - accuracy: 0.6920 - val_loss: 0.8873 - val_accuracy: 0.7005\n",
            "Epoch 18/50\n",
            "313/313 [==============================] - 2s 7ms/step - loss: 0.8513 - accuracy: 0.6957 - val_loss: 0.8526 - val_accuracy: 0.7162\n",
            "Epoch 19/50\n",
            "313/313 [==============================] - 2s 7ms/step - loss: 0.8325 - accuracy: 0.7022 - val_loss: 0.8927 - val_accuracy: 0.7045\n",
            "Epoch 20/50\n",
            "313/313 [==============================] - 2s 7ms/step - loss: 0.8117 - accuracy: 0.7095 - val_loss: 0.8687 - val_accuracy: 0.7158\n",
            "Epoch 21/50\n",
            "313/313 [==============================] - 2s 7ms/step - loss: 0.7920 - accuracy: 0.7188 - val_loss: 0.8769 - val_accuracy: 0.7084\n",
            "Epoch 22/50\n",
            "313/313 [==============================] - 2s 7ms/step - loss: 0.7744 - accuracy: 0.7240 - val_loss: 0.8770 - val_accuracy: 0.7203\n",
            "Epoch 23/50\n",
            "313/313 [==============================] - 2s 7ms/step - loss: 0.7450 - accuracy: 0.7345 - val_loss: 0.9439 - val_accuracy: 0.7082\n",
            "Epoch 24/50\n",
            "313/313 [==============================] - 2s 7ms/step - loss: 0.7408 - accuracy: 0.7370 - val_loss: 0.9360 - val_accuracy: 0.7059\n",
            "Epoch 25/50\n",
            "313/313 [==============================] - 2s 7ms/step - loss: 0.7241 - accuracy: 0.7422 - val_loss: 0.8772 - val_accuracy: 0.7206\n",
            "Epoch 26/50\n",
            "313/313 [==============================] - 2s 7ms/step - loss: 0.6845 - accuracy: 0.7534 - val_loss: 0.9078 - val_accuracy: 0.7217\n",
            "Epoch 27/50\n",
            "313/313 [==============================] - 2s 7ms/step - loss: 0.6867 - accuracy: 0.7531 - val_loss: 0.9267 - val_accuracy: 0.7173\n",
            "Epoch 28/50\n",
            "313/313 [==============================] - 2s 7ms/step - loss: 0.6676 - accuracy: 0.7603 - val_loss: 0.9168 - val_accuracy: 0.7220\n",
            "Epoch 29/50\n",
            "313/313 [==============================] - 2s 7ms/step - loss: 0.6579 - accuracy: 0.7643 - val_loss: 0.9301 - val_accuracy: 0.7087\n",
            "Epoch 30/50\n",
            "313/313 [==============================] - 2s 7ms/step - loss: 0.6506 - accuracy: 0.7673 - val_loss: 0.9260 - val_accuracy: 0.7194\n",
            "Epoch 31/50\n",
            "313/313 [==============================] - 2s 7ms/step - loss: 0.6346 - accuracy: 0.7731 - val_loss: 0.9622 - val_accuracy: 0.7230\n",
            "Epoch 32/50\n",
            "313/313 [==============================] - 2s 7ms/step - loss: 0.6175 - accuracy: 0.7778 - val_loss: 0.9651 - val_accuracy: 0.7210\n",
            "Epoch 33/50\n",
            "313/313 [==============================] - 2s 7ms/step - loss: 0.6065 - accuracy: 0.7826 - val_loss: 0.9801 - val_accuracy: 0.7214\n",
            "Epoch 34/50\n",
            "313/313 [==============================] - 2s 7ms/step - loss: 0.5886 - accuracy: 0.7873 - val_loss: 1.0338 - val_accuracy: 0.7066\n",
            "Epoch 35/50\n",
            "313/313 [==============================] - 2s 7ms/step - loss: 0.5938 - accuracy: 0.7876 - val_loss: 0.9930 - val_accuracy: 0.7145\n",
            "Epoch 36/50\n",
            "313/313 [==============================] - 2s 7ms/step - loss: 0.5763 - accuracy: 0.7910 - val_loss: 1.0118 - val_accuracy: 0.7171\n",
            "Epoch 37/50\n",
            "313/313 [==============================] - 2s 7ms/step - loss: 0.5728 - accuracy: 0.7955 - val_loss: 1.0358 - val_accuracy: 0.7217\n",
            "Epoch 38/50\n",
            "313/313 [==============================] - 2s 7ms/step - loss: 0.5566 - accuracy: 0.8006 - val_loss: 1.0570 - val_accuracy: 0.7179\n",
            "Epoch 39/50\n",
            "313/313 [==============================] - 2s 7ms/step - loss: 0.5379 - accuracy: 0.8040 - val_loss: 1.0496 - val_accuracy: 0.7253\n",
            "Epoch 40/50\n",
            "313/313 [==============================] - 2s 7ms/step - loss: 0.5512 - accuracy: 0.8021 - val_loss: 1.0134 - val_accuracy: 0.7190\n",
            "Epoch 41/50\n",
            "313/313 [==============================] - 2s 7ms/step - loss: 0.5422 - accuracy: 0.8039 - val_loss: 1.0864 - val_accuracy: 0.7104\n",
            "Epoch 42/50\n",
            "313/313 [==============================] - 2s 7ms/step - loss: 0.5246 - accuracy: 0.8109 - val_loss: 1.0872 - val_accuracy: 0.7150\n",
            "Epoch 43/50\n",
            "313/313 [==============================] - 2s 7ms/step - loss: 0.5155 - accuracy: 0.8151 - val_loss: 1.1508 - val_accuracy: 0.7119\n",
            "Epoch 44/50\n",
            "313/313 [==============================] - 2s 7ms/step - loss: 0.5134 - accuracy: 0.8151 - val_loss: 1.0960 - val_accuracy: 0.7233\n",
            "Epoch 45/50\n",
            "313/313 [==============================] - 2s 7ms/step - loss: 0.4992 - accuracy: 0.8199 - val_loss: 1.1489 - val_accuracy: 0.7249\n",
            "Epoch 46/50\n",
            "313/313 [==============================] - 2s 7ms/step - loss: 0.4950 - accuracy: 0.8222 - val_loss: 1.1371 - val_accuracy: 0.7159\n",
            "Epoch 47/50\n",
            "313/313 [==============================] - 2s 7ms/step - loss: 0.4847 - accuracy: 0.8244 - val_loss: 1.1663 - val_accuracy: 0.7237\n",
            "Epoch 48/50\n",
            "313/313 [==============================] - 2s 7ms/step - loss: 0.4949 - accuracy: 0.8216 - val_loss: 1.1814 - val_accuracy: 0.7139\n",
            "Epoch 49/50\n",
            "313/313 [==============================] - 2s 7ms/step - loss: 0.4808 - accuracy: 0.8268 - val_loss: 1.2112 - val_accuracy: 0.7069\n",
            "Epoch 50/50\n",
            "313/313 [==============================] - 2s 7ms/step - loss: 0.4772 - accuracy: 0.8288 - val_loss: 1.2216 - val_accuracy: 0.7111\n"
          ]
        }
      ],
      "source": [
        "results=model.fit(x_train,y_train,\n",
        "                   batch_size=128,\n",
        "                   epochs=50,\n",
        "                   validation_data=(x_val,y_val))"
      ]
    },
    {
      "cell_type": "code",
      "source": [
        "plt.plot(results.history[\"loss\"],label=\"loss\")\n",
        "plt.plot(results.history[\"val_loss\"],label=\"val_loss\")\n",
        "plt.xlabel(\"epoch\")\n",
        "plt.ylabel(\"loss\")\n",
        "plt.legend()\n",
        "plt.show()"
      ],
      "metadata": {
        "colab": {
          "base_uri": "https://localhost:8080/",
          "height": 279
        },
        "id": "ECCndtnn0N62",
        "outputId": "68b5f2ee-0056-45c7-8630-773b0f2a5101"
      },
      "execution_count": 20,
      "outputs": [
        {
          "output_type": "display_data",
          "data": {
            "text/plain": [
              "<Figure size 432x288 with 1 Axes>"
            ],
            "image/png": "[encoded data removed]"
          },
          "metadata": {
            "needs_background": "light"
          }
        }
      ]
    },
    {
      "cell_type": "code",
      "source": [
        "plt.plot(results.history[\"accuracy\"],label=\"accuracy\")\n",
        "plt.plot(results.history[\"val_accuracy\"],label=\"val_accuracy\")\n",
        "plt.xlabel(\"epoch\")\n",
        "plt.ylabel(\"accuracy\")\n",
        "plt.legend()\n",
        "plt.show()"
      ],
      "metadata": {
        "colab": {
          "base_uri": "https://localhost:8080/",
          "height": 279
        },
        "id": "IZ9Bk7T00wd2",
        "outputId": "c08ea1dd-d68f-40eb-9eff-64427647209d"
      },
      "execution_count": 21,
      "outputs": [
        {
          "output_type": "display_data",
          "data": {
            "text/plain": [
              "<Figure size 432x288 with 1 Axes>"
            ],
            "image/png": "[encoded data removed]"
          },
          "metadata": {
            "needs_background": "light"
          }
        }
      ]
    },
    {
      "cell_type": "code",
      "source": [
        "model.evaluate(x_test,y_test)"
      ],
      "metadata": {
        "colab": {
          "base_uri": "https://localhost:8080/"
        },
        "id": "toicnt7E1HFo",
        "outputId": "c58fca16-0fb8-47de-c2af-3399420e946e"
      },
      "execution_count": 23,
      "outputs": [
        {
          "output_type": "stream",
          "name": "stdout",
          "text": [
            "313/313 [==============================] - 1s 3ms/step - loss: 1.2514 - accuracy: 0.7042\n"
          ]
        },
        {
          "output_type": "execute_result",
          "data": {
            "text/plain": [
              "[1.2514386177062988, 0.704200029373169]"
            ]
          },
          "metadata": {},
          "execution_count": 23
        }
      ]
    },
    {
      "cell_type": "code",
      "source": [
        "prediction_result=model.predict(x_test[789].reshape(1,32,32,3))\n",
        "prediction_result"
      ],
      "metadata": {
        "colab": {
          "base_uri": "https://localhost:8080/"
        },
        "id": "_KzTNpfw1fx1",
        "outputId": "8a1e8314-7228-466c-f98e-061b5c887705"
      },
      "execution_count": 27,
      "outputs": [
        {
          "output_type": "execute_result",
          "data": {
            "text/plain": [
              "array([[3.8601321e-04, 6.0902905e-10, 4.7631240e-13, 3.5461979e-15,\n",
              "        2.4560289e-18, 2.7005382e-19, 8.6448646e-17, 7.4004567e-20,\n",
              "        9.9961406e-01, 5.4154087e-11]], dtype=float32)"
            ]
          },
          "metadata": {},
          "execution_count": 27
        }
      ]
    },
    {
      "cell_type": "code",
      "source": [
        "predicted_class=prediction_result.argmax()\n",
        "predicted_probability=prediction_result.max()"
      ],
      "metadata": {
        "id": "fC4h-5DR8TLW"
      },
      "execution_count": 28,
      "outputs": []
    },
    {
      "cell_type": "code",
      "source": [
        "print(f\" this image belongs to class{predicted_class} with {predicted_probability} probabilty% \")"
      ],
      "metadata": {
        "colab": {
          "base_uri": "https://localhost:8080/"
        },
        "id": "aakt6Sso8gTp",
        "outputId": "a42f7cf9-8bf5-41dc-d39f-0c809fe1d382"
      },
      "execution_count": 29,
      "outputs": [
        {
          "output_type": "stream",
          "name": "stdout",
          "text": [
            " this image belongs to class8 with 0.9996140599250793 probabilty% \n"
          ]
        }
      ]
    }
  ],
  "metadata": {
    "colab": {
      "provenance": [],
      "authorship_tag": "ABX9TyNP4ER0NNwHLRtyLkyV2LyX",
      "include_colab_link": true
    },
    "kernelspec": {
      "display_name": "Python 3",
      "name": "python3"
    },
    "language_info": {
      "name": "python"
    },
    "accelerator": "GPU"
  },
  "nbformat": 4,
  "nbformat_minor": 0
}